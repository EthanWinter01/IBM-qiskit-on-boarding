{
 "cells": [
  {
   "cell_type": "markdown",
   "metadata": {},
   "source": [
    "# Basics of Represent Infomartions\n",
    "date written: 2024-07-10\n",
    "\n",
    "\n",
    "### Table of Contents\n",
    "- How do we represent data using mathematical notations?\n",
    "- Is there any rules or convention we need to understand?\n",
    "- What are the library you need to know?"
   ]
  },
  {
   "cell_type": "markdown",
   "metadata": {},
   "source": [
    "#### Vectors and Matrices in Python\n",
    "\n",
    "The fact that Qiskit, one of the famous quantum programming tools is using `python` programming language. So we would learn we would learn how to represent mathematical notations on `numPy` \n",
    "\n",
    "So according to linear algebra convention:\n",
    "1. `vector` is used to represent `bit`\n",
    "2. `matrices` is used to represent `operator`\n",
    "\n",
    "And the tools we use for it is `array`"
   ]
  },
  {
   "cell_type": "code",
   "execution_count": 7,
   "metadata": {},
   "outputs": [
    {
     "data": {
      "text/plain": [
       "array([0.5, 0.5])"
      ]
     },
     "metadata": {},
     "output_type": "display_data"
    }
   ],
   "source": [
    "from numpy import array \n",
    "\n",
    "ket0 = array([1,0])\n",
    "ket1 = array([0,1])\n",
    "\n",
    "display(ket0/2 + ket1/2)"
   ]
  },
  {
   "cell_type": "markdown",
   "metadata": {},
   "source": [
    "and if you came from computer science background, you might familiar with using 2-dimensional array to represent the `matrices`"
   ]
  },
  {
   "cell_type": "code",
   "execution_count": 9,
   "metadata": {},
   "outputs": [
    {
     "data": {
      "text/plain": [
       "array([[1. , 1. ],\n",
       "       [0.5, 0. ]])"
      ]
     },
     "metadata": {},
     "output_type": "display_data"
    }
   ],
   "source": [
    "M1 = array([[1,1], [0,0]])\n",
    "M2 = array([[1,1], [1,0]])\n",
    "\n",
    "display(M1/2 + M2/2)"
   ]
  },
  {
   "cell_type": "markdown",
   "metadata": {},
   "source": [
    "to multiply matrices, we have `matmul`to solved them simply"
   ]
  },
  {
   "cell_type": "code",
   "execution_count": 13,
   "metadata": {},
   "outputs": [
    {
     "data": {
      "text/plain": [
       "array([1, 0])"
      ]
     },
     "metadata": {},
     "output_type": "display_data"
    },
    {
     "data": {
      "text/plain": [
       "array([[2, 1],\n",
       "       [0, 0]])"
      ]
     },
     "metadata": {},
     "output_type": "display_data"
    },
    {
     "data": {
      "text/plain": [
       "array([[1, 1],\n",
       "       [1, 1]])"
      ]
     },
     "metadata": {},
     "output_type": "display_data"
    }
   ],
   "source": [
    "from numpy import matmul\n",
    "\n",
    "display(matmul(M1, ket1))\n",
    "display(matmul(M1, M2)) # (M1)(M2)\n",
    "display(matmul(M2, M1)) # (M2)(M1)"
   ]
  },
  {
   "cell_type": "markdown",
   "metadata": {},
   "source": [
    "#### States, measurements, and operations\n",
    "\n",
    "As we have seen so far, you might thought, but how it is actually represent data, \"Are all vectors and matrices valid?\"\n",
    "\n",
    "This is when we will explain the them in full detail:\n",
    "\n",
    "###### First, we have to understand **Dirac Notation**\n",
    "- define |x⟩ as a column vector, x ∈ Σ, if Σ = {0, 1} then `|0⟩ = Statevector([1,0])` and `|1⟩ = Statevector([0,1])`\n",
    "    - Σ is set of all possible basis\n",
    "    - |x⟩ is basis vectors, while number of entries corresponding to elements of Σ\n",
    "    - for arbitary states vector from would be `|ψ⟩ = Statevector([alpha, beta])`, think of it as probabilities of happened to be zero or one\n",
    "\n",
    "###### What is the differences between general sets of vectors and quantum states vectors?\n",
    "We must understand 3 types of states\n",
    "1. Some invalid state or unnormalized states \n",
    "    - sum of coefficient can be any number\n",
    "2. **probabilistic states** is a form of *classical states* \n",
    "    - coefficient can be only *Real number*\n",
    "    - coefficient can not be *negative* \n",
    "    - sum of coefficient must be 1\n",
    "3. **quantum states**\n",
    "    - coeffient can be *Imaginary number* \n",
    "    - sum of absoluted coefficient square must be 1\n",
    "\n",
    "Now what do `Statevector` represent? Answer is **quantum states**"
   ]
  },
  {
   "cell_type": "code",
   "execution_count": 1,
   "metadata": {},
   "outputs": [
    {
     "name": "stdout",
     "output_type": "stream",
     "text": [
      "State vectors u, v, w is defined as: \n"
     ]
    },
    {
     "data": {
      "text/latex": [
       "$$\\frac{\\sqrt{2}}{2} |0\\rangle+\\frac{\\sqrt{2}}{2} |1\\rangle$$"
      ],
      "text/plain": [
       "<IPython.core.display.Latex object>"
      ]
     },
     "metadata": {},
     "output_type": "display_data"
    },
    {
     "data": {
      "text/latex": [
       "$$(\\frac{1}{3} + \\frac{2 i}{3}) |0\\rangle- \\frac{2}{3} |1\\rangle$$"
      ],
      "text/plain": [
       "<IPython.core.display.Latex object>"
      ]
     },
     "metadata": {},
     "output_type": "display_data"
    },
    {
     "data": {
      "text/latex": [
       "$$\\frac{1}{3} |0\\rangle+\\frac{2}{3} |1\\rangle$$"
      ],
      "text/plain": [
       "<IPython.core.display.Latex object>"
      ]
     },
     "metadata": {},
     "output_type": "display_data"
    }
   ],
   "source": [
    "from qiskit.quantum_info import Statevector\n",
    "from numpy import sqrt\n",
    "\n",
    "u = Statevector([1/sqrt(2), 1/sqrt(2)])\n",
    "v = Statevector([(1+2.0j)/3, -2/3])\n",
    "w = Statevector([1/3, 2/3])\n",
    "\n",
    "print(\"State vectors u, v, w is defined as: \")\n",
    "display(u.draw(\"latex\"))\n",
    "display(v.draw(\"latex\"))\n",
    "display(w.draw(\"latex\"))"
   ]
  },
  {
   "cell_type": "markdown",
   "metadata": {},
   "source": [
    "If parameter that puts into `Statevector` can be any number, how we could which one is valid quantum states"
   ]
  },
  {
   "cell_type": "code",
   "execution_count": 4,
   "metadata": {},
   "outputs": [
    {
     "name": "stdout",
     "output_type": "stream",
     "text": [
      "u is valid: True\n",
      "v is valid: True\n",
      "w is valid: False\n"
     ]
    }
   ],
   "source": [
    "print('u is valid:', u.is_valid())\n",
    "print('v is valid:', v.is_valid())\n",
    "print('w is valid:', w.is_valid())"
   ]
  }
 ],
 "metadata": {
  "kernelspec": {
   "display_name": "Python 3",
   "language": "python",
   "name": "python3"
  },
  "language_info": {
   "codemirror_mode": {
    "name": "ipython",
    "version": 3
   },
   "file_extension": ".py",
   "mimetype": "text/x-python",
   "name": "python",
   "nbconvert_exporter": "python",
   "pygments_lexer": "ipython3",
   "version": "3.12.4"
  }
 },
 "nbformat": 4,
 "nbformat_minor": 2
}
