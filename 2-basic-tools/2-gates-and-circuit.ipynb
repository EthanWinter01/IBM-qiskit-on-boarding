{
 "cells": [
  {
   "cell_type": "markdown",
   "metadata": {},
   "source": [
    "# Gates and Circuits\n",
    "date written: 2024-XX-XX\n",
    "\n",
    "\n",
    "### Table of Contents\n",
    "- How do we represent data using mathematical notations?"
   ]
  }
 ],
 "metadata": {
  "language_info": {
   "name": "python"
  }
 },
 "nbformat": 4,
 "nbformat_minor": 2
}
